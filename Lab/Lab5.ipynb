{
 "cells": [
  {
   "cell_type": "markdown",
   "metadata": {
    "id": "WPvB9TcMmKA6"
   },
   "source": [
    "# Лабораторная работа №5\n",
    "# Рекурсия. Фракталы."
   ]
  },
  {
   "cell_type": "markdown",
   "metadata": {
    "id": "96Gi_LEvmSVH"
   },
   "source": [
    "## Выполнил студент группы ФИО ГРУППА\n",
    "***"
   ]
  },
  {
   "cell_type": "markdown",
   "metadata": {
    "id": "4clYOyb0mbEv"
   },
   "source": [
    "### Задание:\n",
    "Реализовать генерацию заданного типа фрактала с применением рекурсивных функций.\n",
    "\n",
    "\n",
    "Добавить возможность задания глубины фрактала. \n",
    "\n",
    "\n",
    "Оценить глубину рекурсии. \n",
    "\n",
    "\n",
    "Построить таблицу зависимости времени построения от глубины фрактала."
   ]
  },
  {
   "cell_type": "markdown",
   "metadata": {
    "id": "wDXHbUmMmhRL"
   },
   "source": [
    "### Список фракталов:\n",
    "\n",
    "Кривая Коха\n",
    "| Кривая Гильберта\n",
    "| Кривая Серпинского\n",
    "| Салфетка Серпинского\n",
    "| Ковер Серпинского\n",
    "| Дерево Пифагора "
   ]
  },
  {
   "cell_type": "markdown",
   "metadata": {
    "id": "Wggfn8l7nG72"
   },
   "source": [
    "### Выполнение:"
   ]
  },
  {
   "cell_type": "code",
   "execution_count": 24,
   "metadata": {},
   "outputs": [],
   "source": [
    "import turtle"
   ]
  },
  {
   "cell_type": "code",
   "execution_count": 25,
   "metadata": {
    "id": "681a95mZnOSa"
   },
   "outputs": [
    {
     "name": "stdout",
     "output_type": "stream",
     "text": [
      "глубина фрактала = 3\n"
     ]
    }
   ],
   "source": [
    "# Кривая Коха\n",
    "\n",
    "def curve_koch(lvl, s):\n",
    "    \n",
    "    if lvl == 0:\n",
    "        t.fd(s) #для_движения\n",
    "        return\n",
    "    new_s = s / 3\n",
    "    \n",
    "    curve_koch(lvl - 1, new_s)\n",
    "    t.left(60)\n",
    "    \n",
    "    curve_koch(lvl - 1, new_s)\n",
    "    t.right(120)\n",
    "    \n",
    "    curve_koch(lvl - 1, new_s)\n",
    "    t.left(60)\n",
    "    \n",
    "    curve_koch(lvl - 1, new_s)\n",
    "    \n",
    "t = turtle.Turtle()\n",
    "t.speed('fastest')\n",
    "\n",
    "\n",
    "level = 3\n",
    "print(\"глубина фрактала =\",level)\n",
    "curve_koch(level, 400)\n",
    "turtle.done()"
   ]
  },
  {
   "cell_type": "code",
   "execution_count": 26,
   "metadata": {},
   "outputs": [
    {
     "name": "stdout",
     "output_type": "stream",
     "text": [
      "глубина фрактала = 4\n"
     ]
    }
   ],
   "source": [
    "# Кривая Гиьтберта\n",
    "\n",
    "def curve_hilbert(lvl, an, s):\n",
    "    \n",
    "    if (lvl == 0):\n",
    "        t.fd(s)\n",
    "        return\n",
    "\n",
    "    t.right(an)\n",
    "    curve_hilbert(lvl - 1, -an, s)\n",
    "\n",
    "    t.forward(s)\n",
    "    t.left(an)\n",
    "    curve_hilbert(lvl - 1, an, s)\n",
    "\n",
    "    t.forward(s)\n",
    "    curve_hilbert(lvl - 1, an, s)\n",
    "\n",
    "    t.left(an)\n",
    "    t.forward(s)\n",
    "    curve_hilbert(lvl - 1, -an, s)\n",
    "    t.right(an)\n",
    "\n",
    "\n",
    "t = turtle.Turtle()\n",
    "t.speed('fastest')\n",
    "\n",
    "\n",
    "level = 4\n",
    "print(\"глубина фрактала =\",level)\n",
    "\n",
    "curve_hilbert(level, 90, 100 / (2**(level-1)))\n",
    "turtle.done()"
   ]
  },
  {
   "cell_type": "code",
   "execution_count": 27,
   "metadata": {},
   "outputs": [
    {
     "name": "stdout",
     "output_type": "stream",
     "text": [
      "глубина фрактала = 4\n"
     ]
    }
   ],
   "source": [
    "# Кривая Серпинского\n",
    "# Использование L-системы\n",
    "def curve_serpinskie(lvl, max_lvl, ls):\n",
    "    \n",
    "    if lvl == max_lvl:\n",
    "        return ls\n",
    "    \n",
    "    else:\n",
    "        newls = ''\n",
    "        for i in ls:\n",
    "            if i == '-':\n",
    "                newls += '-'\n",
    "            elif i == '+':\n",
    "                newls += '+'\n",
    "            elif i == 'F':\n",
    "                newls += 'F'\n",
    "            elif i == 'X':\n",
    "                newls += 'XF-F+F-XF+F+XF-F+F-X'\n",
    "        ls = newls\n",
    "\n",
    "        return curve_serpinskie(lvl + 1, max_lvl, ls)\n",
    "\n",
    "\n",
    "t = turtle.Turtle()\n",
    "t.speed('fastest')\n",
    "\n",
    "\n",
    "level = 4\n",
    "print(\"глубина фрактала =\",level)\n",
    "sizeF = 20\n",
    "angle = 90\n",
    "L_system = \"F+XF+F+XF\"\n",
    "\n",
    "curve_serpinskie_ls = curve_serpinskie(1, level, L_system)\n",
    "\n",
    "for i in curve_serpinskie_ls:\n",
    "    if i == '-':\n",
    "        t.rt(angle)\n",
    "    elif i == \"+\":\n",
    "        t.lt(angle)\n",
    "    elif i == \"F\":\n",
    "        t.fd(sizeF)\n",
    "\n",
    "turtle.done()"
   ]
  },
  {
   "cell_type": "code",
   "execution_count": 28,
   "metadata": {},
   "outputs": [
    {
     "name": "stdout",
     "output_type": "stream",
     "text": [
      "глубина фрактала = 4\n"
     ]
    }
   ],
   "source": [
    "# Треугольник \\ салфетка Серпинского\n",
    "def triangle_serpinskie(lvl, s):\n",
    "    \n",
    "    if lvl == 0:\n",
    "        for _ in range(3):\n",
    "            t.fd(s)\n",
    "            t.left(120)\n",
    "        return\n",
    "\n",
    "    triangle_serpinskie(lvl - 1, s)\n",
    "    t.fd(s * 2**(lvl-1))\n",
    "    \n",
    "    triangle_serpinskie(lvl - 1, s)\n",
    "    t.left(120)\n",
    "    t.fd(s * 2**(lvl-1))\n",
    "    t.right(120)\n",
    "    \n",
    "    triangle_serpinskie(lvl - 1, s)\n",
    "    t.right(120)\n",
    "    t.fd(s * 2**(lvl-1))\n",
    "    t.left(120)\n",
    "\n",
    "    \n",
    "t = turtle.Turtle()\n",
    "t.speed('fastest')\n",
    "\n",
    "\n",
    "level = 4\n",
    "print(\"глубина фрактала =\",level)\n",
    "\n",
    "triangle_serpinskie(level, 200 / 2**level)\n",
    "\n",
    "turtle.done()"
   ]
  },
  {
   "cell_type": "code",
   "execution_count": 29,
   "metadata": {},
   "outputs": [
    {
     "name": "stdout",
     "output_type": "stream",
     "text": [
      "глубина фрактала = 4\n"
     ]
    }
   ],
   "source": [
    "# Ковер Серпинского\n",
    "def carpet_serpinskie(lvl, s):\n",
    "    \n",
    "    if lvl == 0:\n",
    "        t.begin_fill()\n",
    "        for _ in range(4):\n",
    "            t.fd(s)\n",
    "            t.left(90)\n",
    "        t.end_fill()\n",
    "        return\n",
    "    \n",
    "    else:\n",
    "        for i in range(4):\n",
    "            \n",
    "            carpet_serpinskie(lvl - 1, s // 3)\n",
    "            t.fd(s / 3)\n",
    "\n",
    "            carpet_serpinskie(lvl - 1, s // 3)\n",
    "            t.fd(s / 3)\n",
    "\n",
    "            t.fd(s / 3)\n",
    "            t.left(90)\n",
    "\n",
    "\n",
    "t = turtle.Turtle()\n",
    "t.speed('fastest')\n",
    "\n",
    "\n",
    "level = 4\n",
    "print(\"глубина фрактала =\",level)\n",
    "\n",
    "carpet_serpinskie(level, 200)\n",
    "\n",
    "turtle.done()"
   ]
  },
  {
   "cell_type": "code",
   "execution_count": 41,
   "metadata": {},
   "outputs": [
    {
     "name": "stdout",
     "output_type": "stream",
     "text": [
      "глубина фрактала = 4\n"
     ]
    }
   ],
   "source": [
    "# Дерево Пифагора\n",
    "def tree_pythagoras(turt, l, s):\n",
    "    \n",
    "    if (l == 0):\n",
    "        for _ in range(4):\n",
    "            turt.fd(s)\n",
    "            turt.rt(90)\n",
    "        return\n",
    "\n",
    "    for _ in range(4):\n",
    "        turt.fd(s)\n",
    "        turt.rt(90)\n",
    "\n",
    "    turt.fd(s)\n",
    "    another_turt = turt.clone()\n",
    "    turt.lt(45)\n",
    "    tree_pythagoras(turt, l - 1, (s * 2**(1/2)) / 2)\n",
    "\n",
    "    another_turt.rt(45)\n",
    "    another_turt.fd((s * 2**(1/2)) / 2)\n",
    "    tree_pythagoras(another_turt, l - 1, (s * 2 ** (1 / 2)) / 2)\n",
    "\n",
    "\n",
    "t = turtle.Turtle()\n",
    "t.speed('fastest')\n",
    "\n",
    "\n",
    "level = 4\n",
    "print(\"глубина фрактала =\",level)\n",
    "\n",
    "\n",
    "\n",
    "t.left(90)\n",
    "tree_pythagoras(t, level, 100)\n",
    "\n",
    "turtle.done()"
   ]
  },
  {
   "cell_type": "code",
   "execution_count": 38,
   "metadata": {},
   "outputs": [
    {
     "data": {
      "text/html": [
       "<table><tr><td></td><td>Кривая Коха</td><td>Кривая Гильберта</td><td>Кривая Серпинского</td><td>Салфетка Серпинского</td><td>Ковер Серпинского</td><td>Дерево Пифагора</td></tr><tr><td>Глубина 1</td><td>0.10748</td><td>0.17336</td><td>0.10831</td><td>0.39333</td><td>1.78534</td><td>0.49727</td></tr><tr><td>Глубина 2</td><td>0.48038</td><td>0.7961</td><td>0.6074</td><td>1.27512</td><td>7.83596</td><td>1.3206</td></tr><tr><td>Глубина 3</td><td>1.97043</td><td>3.28552</td><td>2.59306</td><td>3.93639</td><td>43.73546</td><td>2.74871</td></tr><tr><td>Глубина 4</td><td>7.94844</td><td>13.25477</td><td>10.5754</td><td>11.93006</td><td>217.38571</td><td>5.92079</td></tr></table>"
      ],
      "text/plain": [
       "<IPython.core.display.HTML object>"
      ]
     },
     "metadata": {},
     "output_type": "display_data"
    }
   ],
   "source": [
    "from IPython.display import HTML, display\n",
    "import time\n",
    "import turtle\n",
    "data =[\n",
    "    ['','Кривая Коха','Кривая Гильберта','Кривая Серпинского','Салфетка Серпинского',\n",
    "    'Ковер Серпинского','Дерево Пифагора'],\n",
    "    ['Глубина 1',0,0,0,0,0,0],\n",
    "    ['Глубина 2',0,0,0,0,0,0],\n",
    "    ['Глубина 3',0,0,0,0,0,0],\n",
    "    ['Глубина 4',0,0,0,0,0,0],\n",
    "]\n",
    "t = turtle.Turtle()\n",
    "t.speed('fastest')\n",
    "for i in range(1,5):\n",
    "    start_time = time.time()\n",
    "    curve_koch(i, 400)\n",
    "    data[i][1]=str(round(time.time() - start_time,5))\n",
    "for i in range(1,5):\n",
    "    start_time = time.time()\n",
    "    curve_hilbert(i, 90, 100 / (2**(i-1)))\n",
    "    data[i][2]=str(round(time.time() - start_time,5))\n",
    "for i in range(1,5):\n",
    "    start_time = time.time()\n",
    "    sizeF = 20\n",
    "    angle = 90\n",
    "    L_system = \"F+XF+F+XF\"\n",
    "\n",
    "    curve_serpinskie_ls = curve_serpinskie(1, i, L_system)\n",
    "\n",
    "    for j in curve_serpinskie_ls:\n",
    "        if j == '-':\n",
    "            t.rt(angle)\n",
    "        elif j == \"+\":\n",
    "            t.lt(angle)\n",
    "        elif j == \"F\":\n",
    "            t.fd(sizeF)\n",
    "    data[i][3]=str(round(time.time() - start_time,5))\n",
    "for i in range(1,5):\n",
    "    start_time = time.time()\n",
    "    triangle_serpinskie(i, 200 / 2**i)\n",
    "    data[i][4]=str(round(time.time() - start_time,5))\n",
    "for i in range(1,5):\n",
    "    start_time = time.time()\n",
    "    carpet_serpinskie(i, 200)\n",
    "    data[i][5]=str(round(time.time() - start_time,5))\n",
    "for i in range(1,5):\n",
    "    start_time = time.time()\n",
    "    tree_pythagoras(t, i, 100)\n",
    "    data[i][6]=str(round(time.time() - start_time,5))\n",
    "\n",
    "display(HTML(\n",
    "   '<table><tr>{}</tr></table>'.format(\n",
    "       '</tr><tr>'.join(\n",
    "           '<td>{}</td>'.format('</td><td>'.join(str(_) for _ in row)) for row in data)\n",
    "      )\n",
    "))\n",
    "turtle.done()"
   ]
  },
  {
   "cell_type": "markdown",
   "metadata": {
    "id": "diOb-K7LnO5a"
   },
   "source": [
    "### Вывод"
   ]
  }
 ],
 "metadata": {
  "colab": {
   "collapsed_sections": [],
   "name": "Lab5.ipynb",
   "provenance": []
  },
  "kernelspec": {
   "display_name": "Python 3 (ipykernel)",
   "language": "python",
   "name": "python3"
  },
  "language_info": {
   "codemirror_mode": {
    "name": "ipython",
    "version": 3
   },
   "file_extension": ".py",
   "mimetype": "text/x-python",
   "name": "python",
   "nbconvert_exporter": "python",
   "pygments_lexer": "ipython3",
   "version": "3.9.7"
  }
 },
 "nbformat": 4,
 "nbformat_minor": 1
}
