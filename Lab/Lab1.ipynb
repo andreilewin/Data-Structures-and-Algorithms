{
 "cells": [
  {
   "cell_type": "markdown",
   "id": "fifteen-sailing",
   "metadata": {},
   "source": [
    "# Лабораторная работа №1\n",
    "## Выполнил студент группы БФИ2001 Левин Андрей"
   ]
  },
  {
   "cell_type": "markdown",
   "id": "particular-syndicate",
   "metadata": {},
   "source": [
    "### Оглавление\n",
    "1. [Задание 1](#Задание-№1)\n",
    "2. [Задание 2](#Задание-№2)\n",
    "3. [Задание 3](#Задание-№3)\n",
    "4. [Вывод](#Вывод)"
   ]
  },
  {
   "cell_type": "markdown",
   "id": "arctic-stocks",
   "metadata": {},
   "source": [
    "### Задание №1\n",
    "<i> Вызвать функцию print() и передать туда строку Hello, World! </i>"
   ]
  },
  {
   "cell_type": "code",
   "execution_count": 2,
   "id": "caring-truck",
   "metadata": {
    "scrolled": true
   },
   "outputs": [
    {
     "name": "stdout",
     "output_type": "stream",
     "text": [
      "Hello,World\n"
     ]
    }
   ],
   "source": [
    "print(\"Hello,World\")"
   ]
  },
  {
   "cell_type": "markdown",
   "id": "maritime-conversation",
   "metadata": {},
   "source": [
    "### Задание №2\n",
    "Написать генератор случайных матриц(многомерных), который принимает\n",
    "опциональные параметры <b>m</b>, <b>n</b>, <b>min_limit</b>, <b>max_limit</b>, где <b>m</b> и <b>n</b> указывают размер\n",
    "матрицы, а <b>min_lim</b> и <b>max_lim</b> - минимальное и максимальное значение для\n",
    "генерируемого числа."
   ]
  },
  {
   "cell_type": "code",
   "execution_count": 1,
   "id": "built-contact",
   "metadata": {},
   "outputs": [],
   "source": [
    "import random\n",
    "import time"
   ]
  },
  {
   "cell_type": "code",
   "execution_count": 22,
   "id": "alert-charm",
   "metadata": {},
   "outputs": [
    {
     "name": "stdout",
     "output_type": "stream",
     "text": [
      "4\n",
      "4\n",
      "32\n",
      "456\n",
      "[[187, 50, 385, 392], [169, 47, 220, 331], [261, 450, 427, 57], [240, 364, 361, 240]]\n"
     ]
    }
   ],
   "source": [
    "import random\n",
    "import time\n",
    "m = int(input())\n",
    "n = int(input())\n",
    "min_limit = int(input())\n",
    "max_limit = int(input())\n",
    "Matrix = [ [ random.randint(min_limit, max_limit) for j in range(n)] for i in range(m) ]\n",
    "print(Matrix)"
   ]
  },
  {
   "cell_type": "markdown",
   "id": "catholic-roots",
   "metadata": {},
   "source": [
    "### Задание №3\n",
    "Реализовать методы сортировки строк числовой матрицы в соответствии с\n",
    "заданием. Оценить время работы каждого алгоритма сортировки и сравнить его со\n",
    "временем стандартной функции сортировки. Испытания проводить на сгенерированных\n",
    "матрицах."
   ]
  },
  {
   "cell_type": "code",
   "execution_count": 3,
   "id": "opposed-creature",
   "metadata": {},
   "outputs": [],
   "source": [
    "import copy"
   ]
  },
  {
   "cell_type": "code",
   "execution_count": 8,
   "id": "09538535",
   "metadata": {},
   "outputs": [],
   "source": [
    "def massiv_gen(n,min_limit,max_limit):\n",
    "    return [ random.randint(min_limit, max_limit) for j in range(n)]"
   ]
  },
  {
   "cell_type": "code",
   "execution_count": 23,
   "id": "cleared-anniversary",
   "metadata": {},
   "outputs": [
    {
     "name": "stdout",
     "output_type": "stream",
     "text": [
      "massiv:\n",
      " [192, 66, 65, 1, 94, 199, 102, 5, 144, 3, 17, 82, 128, 144, 6, 26, 68, 80, 73, 163, 186, 150, 13, 183, 63, 127, 115, 35, 32, 170, 59, 9, 62, 101, 79, 86, 44, 51, 155, 40, 72, 180, 148, 137, 143, 60, 33, 35, 112, 50, 46, 48, 91, 115, 129, 88, 102, 25, 130, 176, 165, 18, 179, 150, 68, 66, 149, 169, 111, 82, 99, 187, 59, 79, 1, 198, 104, 60, 50, 25, 186, 141, 91, 81, 156, 34, 156, 161, 113, 178, 77, 155, 84, 147, 25, 113, 156, 2, 191, 46]\n",
      "Sorted:\n",
      " [1, 1, 2, 3, 5, 6, 9, 13, 17, 18, 25, 25, 25, 26, 32, 33, 34, 35, 35, 40, 44, 46, 46, 48, 50, 50, 51, 59, 59, 60, 60, 62, 63, 65, 66, 66, 68, 68, 72, 73, 77, 79, 79, 80, 81, 82, 82, 84, 86, 88, 91, 91, 94, 99, 101, 102, 102, 104, 111, 112, 113, 113, 115, 115, 127, 128, 129, 130, 137, 141, 143, 144, 144, 147, 148, 149, 150, 150, 155, 155, 156, 156, 156, 161, 163, 165, 169, 170, 176, 178, 179, 180, 183, 186, 186, 187, 191, 192, 198, 199]\n",
      "--- 8 ms ---\n"
     ]
    }
   ],
   "source": [
    "# Сортировка выбором.\n",
    "# Берётся срез массива, в котором минимальный элемент переносят в самый левый угол,\n",
    "# после чего срез уменьшается и цикл повторяется.\n",
    "start_time = time.time()\n",
    "list_n=massiv_gen(100,0,200)\n",
    "print('massiv:\\n',list_n)\n",
    "def vibor(list_n):\n",
    "    for i in range(len(list_n) - 1):\n",
    "        m = i\n",
    "        j = i + 1\n",
    "        while j < len(list_n):\n",
    "            if list_n[j] <list_n[m]:\n",
    "                m = j\n",
    "            j = j + 1\n",
    "        list_n[i], list_n[m] = list_n[m], list_n[i]\n",
    "    return list_n\n",
    "print ('Sorted:\\n',vibor(list_n))\n",
    "print(\"--- {0} ms ---\".format(round((time.time() - start_time)*1000)))"
   ]
  },
  {
   "cell_type": "code",
   "execution_count": 24,
   "id": "roman-silly",
   "metadata": {
    "scrolled": true
   },
   "outputs": [
    {
     "name": "stdout",
     "output_type": "stream",
     "text": [
      "Massiv:\n",
      " [42, 28, 9, 34, 9, 14, 17, 25, 41, 31, 1, 41, 33, 25, 38, 22, 19, 39, 24, 41, 43, 22, 41, 15, 6, 41, 43, 17, 30, 9, 2, 18, 8, 15, 46, 50, 14, 49, 27, 32, 47, 31, 6, 26, 13, 47, 42, 7, 39, 34, 23, 15, 11, 9, 16, 17, 33, 29, 35, 23, 21, 35, 46, 12, 19, 24, 28, 7, 9, 37, 47, 41, 21, 14, 17, 20, 44, 10, 37, 38, 0, 50, 31, 31, 35, 6, 21, 49, 9, 34, 45, 15, 26, 10, 34, 40, 46, 12, 29, 24]\n",
      "Sorted :\n",
      " [0, 1, 1, 1, 1, 2, 2, 2, 3, 3, 4, 4, 5, 5, 6, 7, 8, 8, 8, 9, 9, 10, 11, 11, 12, 13, 13, 14, 14, 15, 16, 16, 17, 18, 19, 19, 19, 20, 20, 21, 21, 21, 21, 22, 22, 22, 23, 23, 24, 25, 25, 25, 27, 27, 27, 30, 30, 31, 31, 32, 33, 33, 35, 35, 36, 36, 36, 37, 37, 38, 39, 39, 39, 39, 40, 40, 41, 41, 41, 41, 41, 42, 43, 43, 43, 43, 44, 44, 45, 45, 46, 46, 46, 47, 47, 47, 48, 49, 49, 49]\n",
      "--- 5 ms ---\n"
     ]
    }
   ],
   "source": [
    "# Сортировка вставкой.\n",
    "start_time = time.time()\n",
    "list_n=massiv_gen(100,0,50)\n",
    "print('Massiv:\\n',list_n)\n",
    "def vstavka(list_n):\n",
    "    for i in range(1, len(list_n)): \n",
    "        value = list_n[i] \n",
    "        j = i - 1 \n",
    "        while j >= 0 and value < list_n[j]: \n",
    "            list_n[j + 1] = list_n[j] \n",
    "            j -= 1 \n",
    "        list_n[j + 1] = value \n",
    "    return mas\n",
    "print ('Sorted :\\n',vstavka(list_n))\n",
    "print(\"--- {0} ms ---\".format(round((time.time() - start_time)*1000)))"
   ]
  },
  {
   "cell_type": "code",
   "execution_count": 25,
   "id": "vital-implementation",
   "metadata": {},
   "outputs": [
    {
     "name": "stdout",
     "output_type": "stream",
     "text": [
      "massiv:\n",
      " [38, 40, 12, 24, 28, 31, 11, 30, 1, 16, 30, 21, 34, 5, 30, 28, 7, 44, 8, 26, 0, 43, 1, 13, 40, 23, 14, 19, 49, 43, 13, 24, 40, 20, 48, 15, 34, 40, 32, 26, 44, 33, 2, 29, 11, 48, 16, 32, 2, 45, 31, 11, 2, 13, 45, 30, 15, 30, 41, 25, 46, 50, 0, 21, 24, 6, 21, 4, 22, 46, 20, 11, 26, 5, 23, 23, 7, 35, 7, 17, 22, 49, 8, 43, 21, 37, 5, 15, 24, 7, 41, 15, 2, 35, 26, 25, 48, 11, 15, 43]\n",
      "Sorted :\n",
      " [0, 0, 1, 1, 2, 2, 2, 2, 4, 5, 5, 5, 6, 7, 7, 7, 7, 8, 8, 11, 11, 11, 11, 11, 12, 13, 13, 13, 14, 15, 15, 15, 15, 15, 16, 16, 17, 19, 20, 20, 21, 21, 21, 21, 22, 22, 23, 23, 23, 24, 24, 24, 24, 25, 25, 26, 26, 26, 26, 28, 28, 29, 30, 30, 30, 30, 30, 31, 31, 32, 32, 33, 34, 34, 35, 35, 37, 38, 40, 40, 40, 40, 41, 41, 43, 43, 43, 43, 44, 44, 45, 45, 46, 46, 48, 48, 48, 49, 49, 50]\n",
      "--- 4 ms ---\n"
     ]
    }
   ],
   "source": [
    "# Сортировка обменом. || Сортировка пузырьком.\n",
    "start_time = time.time()\n",
    "list_n=massiv_gen(100,0,50)\n",
    "print('massiv:\\n',list_n)\n",
    "def obmen(list_n):\n",
    "    swap=True\n",
    "    while swap:\n",
    "        swap = False\n",
    "        for i in range(len(list_n) - 1):\n",
    "            if list_n[i] > list_n[i + 1]:\n",
    "                list_n[i], list_n[i + 1] = list_n[i + 1], list_n[i]\n",
    "                swap = True\n",
    "    return list_n\n",
    "print ('Sorted :\\n',obmen(list_n))\n",
    "print(\"--- {0} ms ---\".format(round((time.time() - start_time)*1000)))"
   ]
  },
  {
   "cell_type": "code",
   "execution_count": 26,
   "id": "veterinary-glory",
   "metadata": {
    "scrolled": false
   },
   "outputs": [
    {
     "name": "stdout",
     "output_type": "stream",
     "text": [
      "massiv:\n",
      " 48 37 6 11 6 2 38 6 26 3 9 11 38 20 40 17 32 0 16 18 39 39 43 3 35 17 7 5 8 21 40 42 14 43 36 26 35 22 33 37 22 30 17 28 20 43 22 43 0 42 42 15 32 3 2 46 17 31 1 16 18 28 23 30 25 20 42 25 26 9 25 18 6 2 42 48 14 24 43 24 36 48 42 1 44 25 23 30 16 39 6 40 29 48 47 7 23 44 39 15\n",
      "Sorted :\n",
      " [0, 1, 1, 1, 1, 2, 2, 2, 3, 3, 4, 4, 5, 5, 6, 7, 8, 8, 8, 9, 9, 10, 11, 11, 12, 13, 13, 14, 14, 15, 16, 16, 17, 18, 19, 19, 19, 20, 20, 21, 21, 21, 21, 22, 22, 22, 23, 23, 24, 25, 25, 25, 27, 27, 27, 30, 30, 31, 31, 32, 33, 33, 35, 35, 36, 36, 36, 37, 37, 38, 39, 39, 39, 39, 40, 40, 41, 41, 41, 41, 41, 42, 43, 43, 43, 43, 44, 44, 45, 45, 46, 46, 46, 47, 47, 47, 48, 49, 49, 49]\n",
      "--- 12 ms ---\n"
     ]
    }
   ],
   "source": [
    "# Сортировка Шелла.\n",
    "start_time = time.time()\n",
    "list_n=massiv_gen(100,0,50)\n",
    "print('massiv:\\n',*list_n)\n",
    "def shella(list_n):\n",
    "    inc = len(list_n) // 2\n",
    "    while inc:\n",
    "        for i, n in enumerate(list_n):\n",
    "            while i >= inc and list_n[i - inc] > n:\n",
    "                list_n[i] = list_n[i - inc]\n",
    "                i -= inc\n",
    "            list_n[i] = n\n",
    "        inc = 1 if inc == 2 else int(inc * 5.0 / 11)\n",
    "    return mas\n",
    "print ('Sorted :\\n',shella(list_n))\n",
    "print(\"--- {0} ms ---\".format(round((time.time() - start_time)*1000)))"
   ]
  },
  {
   "cell_type": "code",
   "execution_count": 27,
   "id": "correct-chaos",
   "metadata": {
    "scrolled": true
   },
   "outputs": [
    {
     "name": "stdout",
     "output_type": "stream",
     "text": [
      "massiv:\n",
      " [212, 112, 256, 277, 230, 149, 271, 213, 292, 197, 32, 91, 115, 142, 104, 186, 249, 297, 11, 234, 180, 121, 161, 178, 261, 24, 86, 223, 97, 59, 219, 126, 113, 235, 28, 216, 290, 1, 5, 295, 260, 155, 282, 273, 7, 72, 299, 190, 104, 230, 219, 61, 238, 109, 152, 50, 233, 251, 299, 245, 103, 26, 182, 149, 106, 148, 129, 117, 45, 75, 269, 239, 287, 7, 131, 37, 169, 189, 296, 195, 133, 154, 71, 61, 42, 15, 44, 132, 265, 19, 283, 53, 270, 42, 187, 6, 172, 116, 211, 196]\n",
      "Sorted:\n",
      " [1, 5, 6, 7, 7, 11, 15, 19, 24, 26, 28, 32, 37, 42, 42, 44, 45, 50, 53, 59, 61, 61, 71, 72, 75, 86, 91, 97, 103, 104, 104, 106, 109, 112, 113, 115, 116, 117, 121, 126, 129, 131, 132, 133, 142, 148, 149, 149, 152, 154, 155, 161, 169, 172, 178, 180, 182, 186, 187, 189, 190, 195, 196, 197, 211, 212, 213, 216, 219, 219, 223, 230, 230, 233, 234, 235, 238, 239, 245, 249, 251, 256, 260, 261, 265, 269, 270, 271, 273, 277, 282, 283, 287, 290, 292, 295, 296, 297, 299, 299]\n",
      "--- 2 ms ---\n"
     ]
    }
   ],
   "source": [
    "# Быстрая сортировка.\n",
    "start_time = time.time()\n",
    "list_n=massiv_gen(100,0,300)\n",
    "print('massiv:\\n',list_n)\n",
    "def quicksortirovka(nums):\n",
    "    if len(nums) <= 1:\n",
    "        return nums\n",
    "    else:\n",
    "        q = random.choice(nums)\n",
    "    l_nums = [n for n in nums if n < q]\n",
    " \n",
    "    e_nums = [q] * nums.count(q)\n",
    "    b_nums = [n for n in nums if n > q]\n",
    "    return quicksortirovka(l_nums) + e_nums + quicksort(b_nums)\n",
    "print ('Sorted:\\n',quicksort(list_n))\n",
    "print(\"--- {0} ms ---\".format(round((time.time() - start_time)*1000)))"
   ]
  },
  {
   "cell_type": "code",
   "execution_count": 28,
   "id": "french-czech",
   "metadata": {},
   "outputs": [
    {
     "name": "stdout",
     "output_type": "stream",
     "text": [
      "[6, 48, 2, 18, 28, 1, 20, 2, 29, 32, 3, 40, 37, 48, 46, 17, 45, 18, 0, 37, 18, 27, 49, 13, 48, 46, 33, 35, 38, 18, 4, 14, 15, 22, 49, 1, 8, 40, 21, 27, 48, 14, 2, 49, 30, 2, 50, 36, 29, 23, 39, 47, 48, 20, 3, 24, 42, 14, 14, 29, 10, 29, 36, 39, 43, 2, 29, 9, 33, 6, 14, 13, 38, 28, 8, 35, 15, 20, 34, 18, 19, 17, 21, 6, 24, 35, 4, 11, 45, 40, 22, 27, 7, 12, 3, 20, 44, 24, 23, 19]\n",
      "Sorted :\n",
      " [0, 1, 1, 2, 2, 2, 2, 2, 3, 3, 3, 4, 4, 6, 6, 6, 7, 8, 8, 9, 10, 11, 12, 13, 13, 14, 14, 14, 14, 14, 15, 15, 17, 17, 18, 18, 18, 18, 18, 19, 19, 20, 20, 20, 20, 21, 21, 22, 22, 23, 23, 24, 24, 24, 27, 27, 27, 28, 28, 29, 29, 29, 29, 29, 30, 32, 33, 33, 34, 35, 35, 35, 36, 36, 37, 37, 38, 38, 39, 39, 40, 40, 40, 42, 43, 44, 45, 45, 46, 46, 47, 48, 48, 48, 48, 48, 49, 49, 49, 50]\n",
      "--- 2 ms ---\n"
     ]
    }
   ],
   "source": [
    "# Турнирная сортировка.\n",
    "\n",
    "import heapq\n",
    "start_time = time.time()\n",
    "list_n=massiv_gen(100,0,50)\n",
    "print(list_n)\n",
    "def tyrnirnaya(mas):\n",
    "    size=len(mas)\n",
    "    max_s=len(mas)+1\n",
    "    h=[]\n",
    "    while len(h)<max_s and len(mas)>0:\n",
    "        heapq.heappush(h,mas.pop(0))\n",
    "    win=[]\n",
    "    los=[]\n",
    "    while len(mas)>0:\n",
    "        if len(win)==0:\n",
    "            win.append(heapq.heappop(h))\n",
    "        if mas[0]>win[-1]:\n",
    "            heapq.heappush(h,mas.pop(0))\n",
    "        else:\n",
    "            los.append(mas.pop(0))\n",
    "\n",
    "            if len(h)>0:\n",
    "                win.append(heapq.heappop(h))\n",
    "    while len(h)>0:\n",
    "        win.append(heapq.heappop(h))\n",
    "    if len(los)==0:\n",
    "        return win\n",
    "    los=turnir(los)\n",
    "    def merge(mas_a,mas_b,res):\n",
    "        a,b,r=0,0,0\n",
    "        while a<len(mas_a) and b<len(mas_b):\n",
    "            if mas_a[a]<mas_b[b]:\n",
    "                res[r]=mas_a[a]\n",
    "                a+=1\n",
    "            else:\n",
    "                res[r]==mas_b[b]\n",
    "                b+=1\n",
    "            r+=1\n",
    "        while a<len(mas_a):\n",
    "            res[r]==mas_a[a]\n",
    "            a+=1\n",
    "            r+=1\n",
    "        while b<len(mas_b):\n",
    "            res[r]=mas_b[b]\n",
    "            b+=1\n",
    "            r+=1\n",
    "\n",
    "    mas=list(range(size))\n",
    "    merge(los,win,mas)\n",
    "    return mas\n",
    "\n",
    "print ('Sorted :\\n',tyrnirnaya(list_n))\n",
    "print(\"--- {0} ms ---\".format(round((time.time() - start_time)*1000)))\n",
    "      \n",
    "     "
   ]
  },
  {
   "cell_type": "markdown",
   "id": "rental-jerusalem",
   "metadata": {},
   "source": [
    "### Вывод\n"
   ]
  },
  {
   "cell_type": "markdown",
   "id": "9d108a0a",
   "metadata": {},
   "source": []
  }
 ],
 "metadata": {
  "kernelspec": {
   "display_name": "Python 3 (ipykernel)",
   "language": "python",
   "name": "python3"
  },
  "language_info": {
   "codemirror_mode": {
    "name": "ipython",
    "version": 3
   },
   "file_extension": ".py",
   "mimetype": "text/x-python",
   "name": "python",
   "nbconvert_exporter": "python",
   "pygments_lexer": "ipython3",
   "version": "3.9.7"
  }
 },
 "nbformat": 4,
 "nbformat_minor": 5
}
