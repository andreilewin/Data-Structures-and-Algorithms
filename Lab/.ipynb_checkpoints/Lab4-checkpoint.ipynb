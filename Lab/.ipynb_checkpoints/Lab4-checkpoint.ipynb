{
 "cells": [
  {
   "cell_type": "markdown",
   "id": "fifteen-sailing",
   "metadata": {},
   "source": [
    "# Лабораторная работа №4\n",
    "## Выполнил студент группы Левин Андрей БФИ2001"
   ]
  },
  {
   "cell_type": "markdown",
   "id": "arctic-stocks",
   "metadata": {},
   "source": [
    "Реализовать следующие структуры данных:\n",
    "  \n",
    "● <b> Стек (stack): </b>  \n",
    "Операции для стека: \n",
    "<i> инициализация, проверка на пустоту, добавление нового элемента в начало, извлечение элемента из начала;  </i>  \n",
    "  \n",
    "● <b> Дек (двусторонняя очередь, deque):  </b>  \n",
    "Операции для дека: \n",
    "<i> инициализация, проверка на пустоту, добавление нового элемента в начало, добавление нового элемента в конец, извлечение элемента из начала, извлечение элемента из конца. </i>  \n",
    "  \n",
    "<i> Разработать программу обработки данных, содержащихся в заранее подготовленном txt-файле, в соответствии с заданиями, применив указанную в задании структуру данных. Результат работы программы вывести на экран и сохранить в отдельном txt-файле. </i>"
   ]
  },
  {
   "cell_type": "markdown",
   "id": "5d7edb08",
   "metadata": {
    "scrolled": true
   },
   "source": [
    "### Задание №1\n",
    "Отсортировать строки файла, содержащие названия книг, в алфавитном порядке с использованием двух деков."
   ]
  },
  {
   "cell_type": "code",
   "execution_count": 10,
   "id": "17702ade",
   "metadata": {},
   "outputs": [],
   "source": [
    "class Stack:\n",
    "    def __init__(self): \n",
    "        self.m=[]\n",
    "        \n",
    "    def check_empty(self):\n",
    "        return len(self.m)==0  \n",
    "    \n",
    "    def add(self,value):\n",
    "        self.m.append(value) \n",
    "        \n",
    "    def pop(self):\n",
    "        return self.m.pop()\n",
    "    \n",
    "    def checkEl(self):\n",
    "        return self.m[-1]\n",
    "    \n",
    "    def print_m(self):\n",
    "        print(*self.m)\n",
    "        "
   ]
  },
  {
   "cell_type": "code",
   "execution_count": 3,
   "id": "de1b02f7",
   "metadata": {},
   "outputs": [],
   "source": [
    "class Deque(Stack):\n",
    "    def addL(self,value):\n",
    "        self.m.insert(0,value)\n",
    "        \n",
    "    def checkElL(self):\n",
    "        return self.m[0] \n",
    "    \n",
    "    def popL(self):\n",
    "        return self.m.pop(0)\n",
    "    "
   ]
  },
  {
   "cell_type": "code",
   "execution_count": 5,
   "id": "14ea1524",
   "metadata": {},
   "outputs": [
    {
     "name": "stdout",
     "output_type": "stream",
     "text": [
      "My Dark Vanessa, by Kate Elizabeth Russell\n",
      " Real Life, by Brandon Taylor Shuggie Bain, by Douglas Stuart\n",
      " The Glass Hotel, by Emily St. John Mandel\n",
      " The Mirror and the Light, by Hilary Mantel\n",
      " Transcendent Kingdom, by Yaa Gyasi\n",
      "\n"
     ]
    }
   ],
   "source": [
    "def check():\n",
    "    while not deque.check_empty():   \n",
    "        if deque2.check_empty():\n",
    "            if deque.checkEl() <= deque.checkElL():\n",
    "                deque2.add(deque.pop())\n",
    "            else:\n",
    "                deque2.add(deque.popL()) \n",
    "        else:\n",
    "            if deque2.checkEl() <= deque.checkEl() <= deque.checkElL() or deque.checkElL() <= deque2.checkEl() < deque.checkEl():\n",
    "                deque2.add(deque.pop())\n",
    "            elif deque2.checkEl() <= deque.checkElL() <= deque.checkEl() or deque.checkEl() <= deque2.checkEl() < deque.checkElL():\n",
    "                deque2.add(deque.popL())\n",
    "            elif deque2.checkElL() >= deque.checkEl() >= deque.checkElL() or deque.checkElL() >= deque2.checkElL() > deque.checkEl():\n",
    "                dequec2.addL(deque.pop())\n",
    "            elif deque2.checkElL() >= deque.checkElL() >= deque.checkEl() or deque.checkEl() >= deque2.checkElL() > deque.checkElL():\n",
    "                deque2.addL(dec.popL())\n",
    "            else:\n",
    "                while not deque2.check_empty():\n",
    "                    deque.addL(deque2.pop())  \n",
    "    return deque2.m\n",
    "\n",
    "f = open('C:/Users/Андрей/Desktop/ВУЗ/CiAOD/Lab/TxtLab4/File.txt','r')\n",
    "deque = Deque()\n",
    "deque2 = Deque()\n",
    "for s in f:\n",
    "    deque.addL(s)\n",
    "print(*check())\n",
    "f.close()"
   ]
  },
  {
   "cell_type": "markdown",
   "id": "49fbd2a0",
   "metadata": {},
   "source": [
    "### Задание №2\n",
    "Дек содержит последовательность символов для шифровки сообщений. Дан текстовый файл, содержащий зашифрованное сообщение. Пользуясь деком, расшифровать текст. \n",
    "Известно, что при шифровке каждый символ сообщения заменялся следующим за ним в деке по часовой стрелке через один."
   ]
  },
  {
   "cell_type": "code",
   "execution_count": 7,
   "id": "81cab7a8",
   "metadata": {},
   "outputs": [
    {
     "name": "stdout",
     "output_type": "stream",
     "text": [
      "they may have gone on a business trip "
     ]
    }
   ],
   "source": [
    "def check(s):\n",
    "    while True:\n",
    "        if s!=deque.checkEl():\n",
    "            deque.addL(deque.pop())\n",
    "        else:\n",
    "            deque.addL(deque.pop())\n",
    "            deque.addL(deque.pop())\n",
    "            return deque.checkEl()\n",
    "        \n",
    "        \n",
    "f = open('C:/Users/Андрей/Desktop/ВУЗ/CiAOD/Lab/TxtLab4/File2.txt','r')\n",
    "deque = Deque()\n",
    "abc = ['g','h','i','n','o','a','k','l','m','s','t','u','v','w','b','c','d','e','f','p','q','r','j','x','y','z']\n",
    "for a in abc:\n",
    "    deque.add(a)\n",
    "        \n",
    "for i in f:\n",
    "    for j in range(len(i)):\n",
    "        if i[j] in abc:\n",
    "            print(check(i[j]),end='')\n",
    "        else:\n",
    "            print(end=' ')\n",
    "            \n",
    "f.close()"
   ]
  },
  {
   "cell_type": "markdown",
   "id": "c0894f47",
   "metadata": {},
   "source": [
    "### Задание №3\n",
    "Даны три стержня и n дисков различного размера. Диски можно надевать на стержни, образуя из них башни. Перенести n дисков со стержня А на стержень С, сохранив их первоначальный порядок. При переносе дисков необходимо соблюдать следующие правила:\n",
    "- на каждом шаге со стержня на стержень переносить только один диск;\n",
    "- диск нельзя помещать на диск меньшего размера;\n",
    "- для промежуточного хранения можно использовать стержень В.\n",
    "Реализовать алгоритм, используя три стека вместо стержней А, В, С. Информация о дисках хранится в исходном файле."
   ]
  },
  {
   "cell_type": "code",
   "execution_count": 9,
   "id": "9e91a9d4",
   "metadata": {},
   "outputs": [
    {
     "name": "stdout",
     "output_type": "stream",
     "text": [
      "Введите кол-во дисков (12):\n",
      "2\n",
      "Диск А:\n",
      "1 4 5 5 3 9 43 4 7 4 31 5\n",
      "Диск С после переноса:\n",
      " 43\n"
     ]
    }
   ],
   "source": [
    "def trans():  \n",
    "    for i in range(n-1):\n",
    "        max_i = 0\n",
    "        for i in range(len(stack_1.m)):\n",
    "            if stack_1.checkEl() > max_i: \n",
    "                max_i = stack_1.checkEl()\n",
    "            stack_2.add(stack_1.pop())\n",
    "\n",
    "        for i in range(len(stack_2.m)):\n",
    "             if stack_2.checkEl() == max_i: \n",
    "                stack_3.add(stack_2.pop())\n",
    "             else:   \n",
    "                stack_1.add(stack_2.pop())\n",
    "    return stack_3.m\n",
    "\n",
    "stack_1 = Stack()\n",
    "stack_2 = Stack()\n",
    "stack_3 = Stack()\n",
    "\n",
    "stack_1.add(1)\n",
    "stack_1.add(4)\n",
    "stack_1.add(5)\n",
    "stack_1.add(5)\n",
    "stack_1.add(3)\n",
    "stack_1.add(9)\n",
    "stack_1.add(43)\n",
    "stack_1.add(4)\n",
    "stack_1.add(7)\n",
    "stack_1.add(4)\n",
    "stack_1.add(31)\n",
    "stack_1.add(5)\n",
    "\n",
    "n=int(input(f'Введите кол-во дисков ({len(stack_1.m)}):\\n'))\n",
    "print('Диск А:')\n",
    "stack_1.print_m()\n",
    "print('Диск С после переноса:\\n',*trans())\n",
    "                "
   ]
  },
  {
   "cell_type": "markdown",
   "id": "e5b0be17",
   "metadata": {},
   "source": [
    "### Задание №4\n",
    "Дан текстовый файл с программой на алгоритмическом языке. За один просмотр файла проверить баланс круглых скобок в тексте, используя стек."
   ]
  },
  {
   "cell_type": "code",
   "execution_count": 11,
   "id": "5b1df60a",
   "metadata": {},
   "outputs": [
    {
     "name": "stdout",
     "output_type": "stream",
     "text": [
      "True\n"
     ]
    }
   ],
   "source": [
    "def check(f):\n",
    "    for s in f:\n",
    "        for i in range(len(s)):\n",
    "            if s[i] == '(':\n",
    "                stack.add(s[i])\n",
    "            elif s[i] == ')':\n",
    "                if stack.check_empty():\n",
    "                    return False\n",
    "                else:\n",
    "                    stack.pop()\n",
    "    return stack.check_empty()\n",
    "\n",
    "f = open('C:/Users/Андрей/Desktop/ВУЗ/CiAOD/Lab/TxtLab4/File45.txt','r')\n",
    "stack = Stack()\n",
    "print(check(f))\n",
    "f.close()"
   ]
  },
  {
   "cell_type": "markdown",
   "id": "c44cdd6b",
   "metadata": {},
   "source": [
    "### Задание №5\n",
    "Дан текстовый файл с программой на алгоритмическом языке. За один просмотр файла проверить баланс квадратных скобок в тексте, используя дек."
   ]
  },
  {
   "cell_type": "code",
   "execution_count": 11,
   "id": "36b8f400",
   "metadata": {},
   "outputs": [
    {
     "name": "stdout",
     "output_type": "stream",
     "text": [
      "True\n"
     ]
    }
   ],
   "source": [
    "def check(f):\n",
    "    for s in f:\n",
    "        for i in range(len(s)):\n",
    "            if s[i] == '[':\n",
    "                deque.add(s[i])\n",
    "            elif s[i] == ']':\n",
    "                if deque.check_empty():\n",
    "                    return False\n",
    "                else:\n",
    "                    deque.pop()\n",
    "    return deque.check_empty()\n",
    "\n",
    "f = open('C:/Users/Андрей/Desktop/ВУЗ/CiAOD/Lab/TxtLab4/File45.txt','r')\n",
    "deque = Deque()\n",
    "print(check(f))\n",
    "f.close()"
   ]
  },
  {
   "cell_type": "markdown",
   "id": "59d13dc7",
   "metadata": {},
   "source": [
    "### Задание №6\n",
    "Дан файл из символов. Используя стек, за один просмотр файла напечатать сначала все цифры, затем все буквы, и, наконец, все остальные символы, сохраняя исходный порядок в каждой группе символов."
   ]
  },
  {
   "cell_type": "code",
   "execution_count": 13,
   "id": "297e36c2",
   "metadata": {},
   "outputs": [
    {
     "name": "stdout",
     "output_type": "stream",
     "text": [
      "682Доконференциинеобходимопровестипредварительнуюработу   +( == .\n"
     ]
    }
   ],
   "source": [
    "f = open('C:/Users/Андрей/Desktop/ВУЗ/CiAOD/Lab/TxtLab4/File6.txt','r')\n",
    "stack_n = Stack()\n",
    "stack_b = Stack()\n",
    "stack_o = Stack()\n",
    "\n",
    "for s in f:\n",
    "    for i in range(len(s)):\n",
    "        if s[i] == '\\n':\n",
    "            continue\n",
    "        elif s[i].isdigit():\n",
    "            stack_n.add(s[i])\n",
    "        elif s[i].isalpha():\n",
    "            stack_b.add(s[i])\n",
    "        else:\n",
    "            stack_o.add(s[i])\n",
    "            \n",
    "print(*stack_n.m,*stack_b.m,*stack_o.m,sep='')\n",
    "f.close()            "
   ]
  },
  {
   "cell_type": "markdown",
   "id": "973f68bd",
   "metadata": {},
   "source": [
    "### Задание №7\n",
    "Дан файл из целых чисел. Используя дек, за один просмотр файла напечатать сначала все отрицательные числа, затем все положительные числа, сохраняя исходный порядок в каждой группе."
   ]
  },
  {
   "cell_type": "code",
   "execution_count": 12,
   "id": "c56fad66",
   "metadata": {},
   "outputs": [
    {
     "name": "stdout",
     "output_type": "stream",
     "text": [
      "-3 -54355 -43545 10 158 44 465483 5555 "
     ]
    }
   ],
   "source": [
    "def print_z():\n",
    "    for s in f:\n",
    "        m = s.split()\n",
    "        for i in range(len(m)):\n",
    "            if int(m[i]) < 0:\n",
    "                print(m[i],end=' ')\n",
    "            else:\n",
    "                deque.add(m[i])\n",
    "                \n",
    "    for i in range(len(deque.m)):\n",
    "        print(deque.m[i],end=' ')\n",
    "        \n",
    "f = open('C:/Users/Андрей/Desktop/ВУЗ/CiAOD/Lab/TxtLab4/File7.txt','r')\n",
    "deque = Deque()\n",
    "print_z()\n",
    "f.close()"
   ]
  },
  {
   "cell_type": "markdown",
   "id": "b9228191",
   "metadata": {},
   "source": [
    "### Задание №8\n",
    "Дан текстовый файл. Используя стек, сформировать новый текстовый файл, содержащий строки исходного файла, записанные в обратном порядке: первая строка становится последней, вторая – предпоследней и т.д."
   ]
  },
  {
   "cell_type": "code",
   "execution_count": 16,
   "id": "981fbdfe",
   "metadata": {},
   "outputs": [
    {
     "name": "stdout",
     "output_type": "stream",
     "text": [
      "To where it bent in the undergrowth. \n",
      "\n",
      "And looked down one as far as I could\n",
      "And be one traveler, long I stood\n",
      "And sorry I could not travel both\n",
      "Two roads diverged in a yellow wood,\n"
     ]
    }
   ],
   "source": [
    "f = open('C:/Users/Андрей/Desktop/ВУЗ/CiAOD/Lab/TxtLab4/File8.txt','r')\n",
    "stack = Stack()\n",
    "for s in f:\n",
    "    stack.add(s)\n",
    "    \n",
    "print(stack.pop(),'\\n')\n",
    "while not stack.check_empty():\n",
    "    print(stack.pop(),end='')\n",
    "    \n",
    "f.close()"
   ]
  },
  {
   "cell_type": "markdown",
   "id": "rental-jerusalem",
   "metadata": {},
   "source": [
    "### Вывод\n"
   ]
  },
  {
   "cell_type": "markdown",
   "id": "0c2b8899",
   "metadata": {},
   "source": []
  }
 ],
 "metadata": {
  "kernelspec": {
   "display_name": "Python 3 (ipykernel)",
   "language": "python",
   "name": "python3"
  },
  "language_info": {
   "codemirror_mode": {
    "name": "ipython",
    "version": 3
   },
   "file_extension": ".py",
   "mimetype": "text/x-python",
   "name": "python",
   "nbconvert_exporter": "python",
   "pygments_lexer": "ipython3",
   "version": "3.9.7"
  }
 },
 "nbformat": 4,
 "nbformat_minor": 5
}
