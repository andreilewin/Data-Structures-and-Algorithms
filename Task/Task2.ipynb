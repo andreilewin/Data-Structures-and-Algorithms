{
 "cells": [
  {
   "cell_type": "markdown",
   "id": "arctic-stocks",
   "metadata": {},
   "source": [
    "### Задание №1\n",
    "Массив A состоит из целых положительных чисел длин отрезков. Составьте из трех отрезков такой треугольник, чтобы его периметр был максимально возможным. Если невозможно составить треугольник с положительной площадью функция возвращает 0."
   ]
  },
  {
   "cell_type": "code",
   "execution_count": 1,
   "id": "caring-truck",
   "metadata": {
    "scrolled": false
   },
   "outputs": [],
   "source": [
    "import random\n"
   ]
  },
  {
   "cell_type": "code",
   "execution_count": 2,
   "id": "fb9cd127",
   "metadata": {},
   "outputs": [],
   "source": [
    "def massiv_gen(n,min_limit,max_limit):\n",
    "    return [ random.randint(min_limit, max_limit) for j in range(n)]"
   ]
  },
  {
   "cell_type": "code",
   "execution_count": 4,
   "id": "37e1952a",
   "metadata": {},
   "outputs": [
    {
     "name": "stdout",
     "output_type": "stream",
     "text": [
      "5\n",
      "Исходный массив:\n",
      " [461, 130, 229, 202, 444]\n",
      "Отсортированный массив:\n",
      " [461, 444, 229, 202, 130]\n",
      "Стороны треугольника с максимальный периметром:\n",
      " (461, 444, 229)\n"
     ]
    }
   ],
   "source": [
    "def tr(mas,n):\n",
    "    mas=sorted(mas,reverse=True)\n",
    "    for i in range(n-2):\n",
    "        if mas[i]<(mas[i+1]+mas[i+2]):\n",
    "            return mas[i], mas[i+1], mas[i+2]\n",
    "    return 0\n",
    "mas_len=int(input())\n",
    "min_limit=0\n",
    "max_limit=500\n",
    "mas=massiv_gen(mas_len,min_limit,max_limit)\n",
    "print('Исходный массив:\\n',(mas))\n",
    "print('Отсортированный массив:\\n',sorted(mas)[::-1])\n",
    "print('Стороны треугольника с максимальный периметром:\\n',tr(mas,mas_len))"
   ]
  },
  {
   "cell_type": "markdown",
   "id": "maritime-conversation",
   "metadata": {},
   "source": [
    "### Задание №2\n",
    "Дан массив неотрицательных целых чисел nums. Расположите их в таком порядке, чтобы вместе они образовали максимально возможное число. Замечание: Результат может быть очень большим числом, поэтому представьте его как string, а не integer."
   ]
  },
  {
   "cell_type": "code",
   "execution_count": 6,
   "id": "alert-charm",
   "metadata": {
    "scrolled": false
   },
   "outputs": [
    {
     "name": "stdout",
     "output_type": "stream",
     "text": [
      "20\n",
      "Исходный массив:\n",
      " [454, 232, 188, 386, 381, 149, 359, 336, 413, 290, 370, 166, 202, 429, 258, 175, 124, 209, 396, 426]\n",
      "Отсортированный массив :\n",
      " [454, 429, 426, 413, 396, 386, 381, 370, 359, 336, 290, 258, 232, 209, 202, 188, 175, 166, 149, 124]\n",
      "454413429426386381359336370396232290202258209188149166175124\n"
     ]
    }
   ],
   "source": [
    "def chet(a):\n",
    "    while a>9:\n",
    "        a//=10\n",
    "    return a\n",
    "def max_number(mas):\n",
    "    cislo=\"\"\n",
    "    while len(mas)>0:\n",
    "        index=0\n",
    "        for i in range(len(mas)):\n",
    "            if chet(mas[i])>chet(mas[index]):\n",
    "                index=i \n",
    "        cislo+=str(mas[index])\n",
    "        mas.pop(index)\n",
    "    \n",
    "    return cislo\n",
    "    \n",
    "\n",
    "\n",
    "\n",
    "mas_len=int(input())\n",
    "min_limit=0\n",
    "max_limit=500\n",
    "mas= massiv_gen(mas_len,min_limit,max_limit)\n",
    "print('Исходный массив:\\n',(mas))\n",
    "print('Отсортированный массив :\\n',sorted(mas)[::-1])\n",
    "print(max_number(mas))\n",
    "\n"
   ]
  },
  {
   "cell_type": "markdown",
   "id": "catholic-roots",
   "metadata": {},
   "source": [
    "### Задание №3\n",
    "Дана матрица mat размером m * n, значения целочисленные. Напишите функцию, сортирующую каждую диагональ матрицы по возрастанию и возвращающую получившуюся матрицу."
   ]
  },
  {
   "cell_type": "code",
   "execution_count": 9,
   "id": "cleared-anniversary",
   "metadata": {
    "scrolled": false
   },
   "outputs": [
    {
     "name": "stdout",
     "output_type": "stream",
     "text": [
      "10\n",
      "10\n",
      "Сгенерированная матрица:\n",
      "28 12 91 86 13 52 56 51 71 55 \n",
      "61 51 42 77 22 56 34 97 27 78 \n",
      "79 31 78 47 73 43 19 38 18 79 \n",
      "27 91 15 76 70 35 79 18 39 56 \n",
      "78 66 46 45 47 84 76 60 80 98 \n",
      "15 85 99 74 94 15 33 98 30 26 \n",
      "62 89 93 70 94 50 99 18 45 20 \n",
      "60 32 40 56 81 16 91 49 64 81 \n",
      "15 86 32 39 10 52 38 23 15 13 \n",
      "69 74 56 41 26 92 18 90 34 70 \n",
      "\n",
      "\n",
      "Отсортированная матрица:\n",
      "28 61 91 86 91 66 85 99 97 94 \n",
      "12 79 42 78 52 76 89 93 86 94 \n",
      "51 31 78 47 73 70 74 84 78 81 \n",
      "27 77 22 62 60 71 79 76 79 99 \n",
      "13 15 56 51 47 70 74 60 98 98 \n",
      "15 56 45 35 69 56 56 80 91 92 \n",
      "46 43 32 55 32 50 56 52 49 64 \n",
      "34 19 40 18 39 41 30 45 23 90 \n",
      "15 38 18 39 16 26 38 20 81 34 \n",
      "27 15 33 10 18 26 18 15 13 70 \n",
      "\n",
      "\n"
     ]
    }
   ],
   "source": [
    "import random\n",
    "\n",
    "def generator(m,n,min_limit,max_limit):\n",
    "    return [ [ random.randint(min_limit, max_limit) for j in range(n)] for i in range(m) ]\n",
    "\n",
    "def formdiag(mas):\n",
    "    mas_d=[[-1 for j in range(len(mas[0])+len(mas)-1)] for i in range(len(mas))]\n",
    "    for i in range(len(mas[0])+len(mas)-1):\n",
    "        for j in range(len(mas)):\n",
    "           if i>=j and i<len(mas[0])+j:\n",
    "               mas_d[j][i]=mas[j][i-j]\n",
    "    return mas_d\n",
    "\n",
    "def sorted_m(mas):\n",
    "    for i in range(len(mas[0])):\n",
    "        s_list=[]\n",
    "        for j in range(len(mas)):\n",
    "            if mas[j][i]>=0:\n",
    "                s_list.append(mas[j][i])\n",
    "        s_list=sorted(s_list,reverse=True)\n",
    "        n=0\n",
    "        for j in range(len(mas)):\n",
    "            if mas[j][i]>=0:\n",
    "                mas[j][i]=s_list[n]\n",
    "                n+=1\n",
    "    return mas\n",
    "\n",
    "def form_m(mas,n,m):\n",
    "    mas_r=[[0 for j in range(m)] for i in range(n)]\n",
    "    for i in range(n):\n",
    "        for j in range(m):\n",
    "            mas_r[i][j]=mas[i][j+i]\n",
    "    return mas_r\n",
    "\n",
    "def print_m(mas):\n",
    "    for i in range(len(mas)):\n",
    "        for j in range(len(mas[i])):\n",
    "            print(mas[i][j], end=' ')\n",
    "        print()\n",
    "    print('\\n')\n",
    "\n",
    "m,n = int(input()),int(input())\n",
    "min_limit=10\n",
    "max_limit=99\n",
    "mas=generator(m,n,min_limit,max_limit)\n",
    "print('Сгенерированная матрица:')\n",
    "print_matrix(mas)\n",
    "print('Отсортированная матрица:')\n",
    "print_matrix(form_m(sorted_m(formdiag(mas)),m,n))"
   ]
  },
  {
   "cell_type": "code",
   "execution_count": null,
   "id": "af3a1bc8",
   "metadata": {},
   "outputs": [],
   "source": []
  }
 ],
 "metadata": {
  "kernelspec": {
   "display_name": "Python 3 (ipykernel)",
   "language": "python",
   "name": "python3"
  },
  "language_info": {
   "codemirror_mode": {
    "name": "ipython",
    "version": 3
   },
   "file_extension": ".py",
   "mimetype": "text/x-python",
   "name": "python",
   "nbconvert_exporter": "python",
   "pygments_lexer": "ipython3",
   "version": "3.9.7"
  }
 },
 "nbformat": 4,
 "nbformat_minor": 5
}
